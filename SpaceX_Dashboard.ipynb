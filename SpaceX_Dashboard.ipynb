{
 "cells": [
  {
   "cell_type": "code",
   "execution_count": 3,
   "id": "7162efaa-8f70-4a1c-9095-0198bd0b5af9",
   "metadata": {},
   "outputs": [
    {
     "name": "stderr",
     "output_type": "stream",
     "text": [
      "<ipython-input-3-5d8b9e5642ff>:4: UserWarning: \n",
      "The dash_html_components package is deprecated. Please replace\n",
      "`import dash_html_components as html` with `from dash import html`\n",
      "  import dash_html_components as html\n",
      "<ipython-input-3-5d8b9e5642ff>:5: UserWarning: \n",
      "The dash_core_components package is deprecated. Please replace\n",
      "`import dash_core_components as dcc` with `from dash import dcc`\n",
      "  import dash_core_components as dcc\n"
     ]
    }
   ],
   "source": [
    "# Required libraries\n",
    "import pandas as pd\n",
    "import dash\n",
    "import dash_html_components as html\n",
    "import dash_core_components as dcc\n",
    "from dash.dependencies import Input, Output\n",
    "import plotly.express as px"
   ]
  },
  {
   "cell_type": "code",
   "execution_count": 2,
   "id": "598a1575-4932-4501-baf8-802c2f4772c5",
   "metadata": {},
   "outputs": [],
   "source": [
    "#spacex_plotly_data = pd.read_csv(\"https://cf-courses-data.s3.us.cloud-object-storage.appdomain.cloud/IBM-DS0321EN-SkillsNetwork/datasets/spacex_launch_dash.csv\")\n",
    "#spacex_plotly_data.to_csv('spacex_plotly_data.csv',index=False)\n",
    "#!curl \"https://cf-courses-data.s3.us.cloud-object-storage.appdomain.cloud/IBM-DS0321EN-SkillsNetwork/labs/module_3/spacex_dash_app.py\""
   ]
  },
  {
   "cell_type": "code",
   "execution_count": 4,
   "id": "5681a5fa-54ed-4c3e-b2ca-625114d88875",
   "metadata": {},
   "outputs": [
    {
     "data": {
      "text/html": [
       "<div>\n",
       "<style scoped>\n",
       "    .dataframe tbody tr th:only-of-type {\n",
       "        vertical-align: middle;\n",
       "    }\n",
       "\n",
       "    .dataframe tbody tr th {\n",
       "        vertical-align: top;\n",
       "    }\n",
       "\n",
       "    .dataframe thead th {\n",
       "        text-align: right;\n",
       "    }\n",
       "</style>\n",
       "<table border=\"1\" class=\"dataframe\">\n",
       "  <thead>\n",
       "    <tr style=\"text-align: right;\">\n",
       "      <th></th>\n",
       "      <th>Unnamed: 0</th>\n",
       "      <th>Flight Number</th>\n",
       "      <th>Launch Site</th>\n",
       "      <th>Mission Outcome</th>\n",
       "      <th>class</th>\n",
       "      <th>Payload Mass (kg)</th>\n",
       "      <th>Booster Version</th>\n",
       "      <th>Booster Version Category</th>\n",
       "    </tr>\n",
       "  </thead>\n",
       "  <tbody>\n",
       "    <tr>\n",
       "      <th>0</th>\n",
       "      <td>0</td>\n",
       "      <td>1</td>\n",
       "      <td>CCAFS LC-40</td>\n",
       "      <td>Success</td>\n",
       "      <td>0</td>\n",
       "      <td>0.0</td>\n",
       "      <td>F9 v1.0  B0003</td>\n",
       "      <td>v1.0</td>\n",
       "    </tr>\n",
       "    <tr>\n",
       "      <th>1</th>\n",
       "      <td>1</td>\n",
       "      <td>2</td>\n",
       "      <td>CCAFS LC-40</td>\n",
       "      <td>Success</td>\n",
       "      <td>0</td>\n",
       "      <td>0.0</td>\n",
       "      <td>F9 v1.0  B0004</td>\n",
       "      <td>v1.0</td>\n",
       "    </tr>\n",
       "    <tr>\n",
       "      <th>2</th>\n",
       "      <td>2</td>\n",
       "      <td>3</td>\n",
       "      <td>CCAFS LC-40</td>\n",
       "      <td>Success</td>\n",
       "      <td>0</td>\n",
       "      <td>525.0</td>\n",
       "      <td>F9 v1.0  B0005</td>\n",
       "      <td>v1.0</td>\n",
       "    </tr>\n",
       "    <tr>\n",
       "      <th>3</th>\n",
       "      <td>3</td>\n",
       "      <td>4</td>\n",
       "      <td>CCAFS LC-40</td>\n",
       "      <td>Success</td>\n",
       "      <td>0</td>\n",
       "      <td>500.0</td>\n",
       "      <td>F9 v1.0  B0006</td>\n",
       "      <td>v1.0</td>\n",
       "    </tr>\n",
       "    <tr>\n",
       "      <th>4</th>\n",
       "      <td>4</td>\n",
       "      <td>5</td>\n",
       "      <td>CCAFS LC-40</td>\n",
       "      <td>Success</td>\n",
       "      <td>0</td>\n",
       "      <td>677.0</td>\n",
       "      <td>F9 v1.0  B0007</td>\n",
       "      <td>v1.0</td>\n",
       "    </tr>\n",
       "  </tbody>\n",
       "</table>\n",
       "</div>"
      ],
      "text/plain": [
       "   Unnamed: 0  Flight Number  Launch Site Mission Outcome  class  \\\n",
       "0           0              1  CCAFS LC-40         Success      0   \n",
       "1           1              2  CCAFS LC-40         Success      0   \n",
       "2           2              3  CCAFS LC-40         Success      0   \n",
       "3           3              4  CCAFS LC-40         Success      0   \n",
       "4           4              5  CCAFS LC-40         Success      0   \n",
       "\n",
       "   Payload Mass (kg) Booster Version Booster Version Category  \n",
       "0                0.0  F9 v1.0  B0003                     v1.0  \n",
       "1                0.0  F9 v1.0  B0004                     v1.0  \n",
       "2              525.0  F9 v1.0  B0005                     v1.0  \n",
       "3              500.0  F9 v1.0  B0006                     v1.0  \n",
       "4              677.0  F9 v1.0  B0007                     v1.0  "
      ]
     },
     "execution_count": 4,
     "metadata": {},
     "output_type": "execute_result"
    }
   ],
   "source": [
    "# read data\n",
    "spacex_df = pd.read_csv('spacex_plotly_data.csv')\n",
    "spacex_df.head()"
   ]
  },
  {
   "cell_type": "code",
   "execution_count": 5,
   "id": "89cfa5b3-d1cb-4843-aab6-f08bf987d4ea",
   "metadata": {},
   "outputs": [
    {
     "data": {
      "text/plain": [
       "[{'label': 'All Sites', 'value': 'All Sites'},\n",
       " {'label': 'CCAFS LC-40', 'value': 'CCAFS LC-40'},\n",
       " {'label': 'VAFB SLC-4E', 'value': 'VAFB SLC-4E'},\n",
       " {'label': 'KSC LC-39A', 'value': 'KSC LC-39A'},\n",
       " {'label': 'CCAFS SLC-40', 'value': 'CCAFS SLC-40'}]"
      ]
     },
     "execution_count": 5,
     "metadata": {},
     "output_type": "execute_result"
    }
   ],
   "source": [
    "uniquelaunchsites = spacex_df['Launch Site'].unique().tolist()\n",
    "# Create dictionary for launch site values\n",
    "sites = []\n",
    "sites.append({'label': 'All Sites', 'value': 'All Sites'})\n",
    "\n",
    "# fill values in dictionary\n",
    "for location in uniquelaunchsites:\n",
    "    sites.append({'label': location, 'value': location})\n",
    "\n",
    "sites"
   ]
  },
  {
   "cell_type": "code",
   "execution_count": 6,
   "id": "36f2d1cc-99f2-4b77-9ef0-d82c02bc0c4c",
   "metadata": {},
   "outputs": [],
   "source": [
    "#!curl \"https://cf-courses-data.s3.us.cloud-object-storage.appdomain.cloud/IBM-DS0321EN-SkillsNetwork/labs/module_3/spacex_dash_app.py\""
   ]
  },
  {
   "cell_type": "code",
   "execution_count": 7,
   "id": "9877e650-ee28-414e-bcbb-323ac6f49a4f",
   "metadata": {},
   "outputs": [],
   "source": [
    "max_payload = spacex_df['Payload Mass (kg)'].max()\n",
    "min_payload = spacex_df['Payload Mass (kg)'].min()\n"
   ]
  },
  {
   "cell_type": "code",
   "execution_count": null,
   "id": "acddfa9f-5f38-4445-9a4e-ca20bd214c1a",
   "metadata": {},
   "outputs": [
    {
     "name": "stdout",
     "output_type": "stream",
     "text": [
      "Dash is running on http://127.0.0.1:8050/\n",
      "\n",
      " * Serving Flask app \"__main__\" (lazy loading)\n",
      " * Environment: production\n",
      "\u001b[31m   WARNING: This is a development server. Do not use it in a production deployment.\u001b[0m\n",
      "\u001b[2m   Use a production WSGI server instead.\u001b[0m\n",
      " * Debug mode: off\n"
     ]
    },
    {
     "name": "stderr",
     "output_type": "stream",
     "text": [
      " * Running on http://127.0.0.1:8050/ (Press CTRL+C to quit)\n",
      "127.0.0.1 - - [13/Dec/2021 18:26:17] \"\u001b[37mGET / HTTP/1.1\u001b[0m\" 200 -\n",
      "127.0.0.1 - - [13/Dec/2021 18:26:17] \"\u001b[37mGET /_dash-component-suites/dash/deps/polyfill@7.v2_0_0m1633455707.12.1.min.js HTTP/1.1\u001b[0m\" 200 -\n",
      "127.0.0.1 - - [13/Dec/2021 18:26:17] \"\u001b[37mGET /_dash-component-suites/dash/deps/react-dom@16.v2_0_0m1633455707.14.0.min.js HTTP/1.1\u001b[0m\" 200 -\n",
      "127.0.0.1 - - [13/Dec/2021 18:26:17] \"\u001b[37mGET /_dash-component-suites/dash/deps/react@16.v2_0_0m1633455707.14.0.min.js HTTP/1.1\u001b[0m\" 200 -\n",
      "127.0.0.1 - - [13/Dec/2021 18:26:17] \"\u001b[37mGET /_dash-component-suites/dash/dash-renderer/build/dash_renderer.v2_0_0m1633455707.min.js HTTP/1.1\u001b[0m\" 200 -\n",
      "127.0.0.1 - - [13/Dec/2021 18:26:17] \"\u001b[37mGET /_dash-component-suites/dash/dcc/dash_core_components.v2_0_0m1633455707.js HTTP/1.1\u001b[0m\" 200 -\n",
      "127.0.0.1 - - [13/Dec/2021 18:26:17] \"\u001b[37mGET /_dash-component-suites/dash/deps/prop-types@15.v2_0_0m1633455707.7.2.min.js HTTP/1.1\u001b[0m\" 200 -\n",
      "127.0.0.1 - - [13/Dec/2021 18:26:17] \"\u001b[37mGET /_dash-component-suites/dash/dcc/dash_core_components-shared.v2_0_0m1633455707.js HTTP/1.1\u001b[0m\" 200 -\n",
      "127.0.0.1 - - [13/Dec/2021 18:26:17] \"\u001b[37mGET /_dash-component-suites/dash/html/dash_html_components.v2_0_0m1633455707.min.js HTTP/1.1\u001b[0m\" 200 -\n",
      "127.0.0.1 - - [13/Dec/2021 18:26:17] \"\u001b[37mGET /_dash-component-suites/dash/dash_table/bundle.v5_0_0m1633455707.js HTTP/1.1\u001b[0m\" 200 -\n",
      "127.0.0.1 - - [13/Dec/2021 18:26:17] \"\u001b[37mGET /_dash-layout HTTP/1.1\u001b[0m\" 200 -\n",
      "127.0.0.1 - - [13/Dec/2021 18:26:17] \"\u001b[37mGET /_dash-dependencies HTTP/1.1\u001b[0m\" 200 -\n",
      "127.0.0.1 - - [13/Dec/2021 18:26:17] \"\u001b[37mGET /_favicon.ico?v=2.0.0 HTTP/1.1\u001b[0m\" 200 -\n",
      "127.0.0.1 - - [13/Dec/2021 18:26:17] \"\u001b[37mGET /_dash-component-suites/dash/dcc/async-dropdown.js HTTP/1.1\u001b[0m\" 200 -\n",
      "127.0.0.1 - - [13/Dec/2021 18:26:17] \"\u001b[37mGET /_dash-component-suites/dash/dcc/async-graph.js HTTP/1.1\u001b[0m\" 200 -\n",
      "127.0.0.1 - - [13/Dec/2021 18:26:17] \"\u001b[37mGET /_dash-component-suites/dash/dcc/async-slider.js HTTP/1.1\u001b[0m\" 200 -\n",
      "127.0.0.1 - - [13/Dec/2021 18:26:17] \"\u001b[37mGET /_dash-component-suites/dash/dcc/async-plotlyjs.js HTTP/1.1\u001b[0m\" 200 -\n",
      "127.0.0.1 - - [13/Dec/2021 18:26:18] \"\u001b[37mPOST /_dash-update-component HTTP/1.1\u001b[0m\" 200 -\n",
      "127.0.0.1 - - [13/Dec/2021 18:26:18] \"\u001b[37mPOST /_dash-update-component HTTP/1.1\u001b[0m\" 200 -\n"
     ]
    }
   ],
   "source": [
    "app = dash.Dash(__name__)\n",
    "\n",
    "# Create an app layout\n",
    "app.layout = html.Div(children=[html.H1('SpaceX Launch Records Dashboard',\n",
    "                                        style={'textAlign': 'center', 'color': '#0e1012',\n",
    "                                               'font-size': 40}),\n",
    "                                # TASK 1: Add a dropdown list to enable Launch Site selection\n",
    "                                # The default select value is for ALL sites\n",
    "                                # dcc.Dropdown(id='site-dropdown',...)\n",
    "                                dcc.Dropdown(id='site-dropdown',\n",
    "                                            options=sites,\n",
    "                                            value='All Sites',\n",
    "                                            placeholder=\"Select a Launch Site here\", \n",
    "                                            searchable=True),\n",
    "                                html.Br(),\n",
    "\n",
    "                                # TASK 2: Add a pie chart to show the total successful launches count for all sites\n",
    "                                # If a specific launch site was selected, show the Success vs. Failed counts for the site\n",
    "                                html.Div(dcc.Graph(id='success-pie-chart')),\n",
    "                                html.Br(),\n",
    "\n",
    "                                html.P(\"Payload range (Kg):\"),\n",
    "                                # TASK 3: Add a slider to select payload range\n",
    "                                dcc.RangeSlider(id='payload-slider',\n",
    "                                                min=0,max=10000,step=1000,\n",
    "                                                value=[min_payload,max_payload],\n",
    "                                                marks={0: '0', 2500:'2500',5000:'5000',\n",
    "                                                7500:'7500', 10000: '10000'}),\n",
    "\n",
    "                                # TASK 4: Add a scatter chart to show the correlation between payload and launch success\n",
    "                                html.Div(dcc.Graph(id='success-payload-scatter-chart')),\n",
    "                                ])\n",
    "\n",
    "# TASK 2:\n",
    "# Add a callback function for `site-dropdown` as input, `success-pie-chart` as output\n",
    "@app.callback(\n",
    "    Output(component_id='success-pie-chart', component_property='figure'),\n",
    "    Input(component_id='site-dropdown', component_property='value'))\n",
    "\n",
    "def get_pie_chart(entered_site):\n",
    "    if entered_site == 'All Sites':\n",
    "        fig = px.pie(spacex_df, names='Launch Site', values='class' ,title='Launch Success for All Sites',template='plotly_dark')\n",
    "        return fig\n",
    "    else:\n",
    "        #specific_df = spacex_df['Launch Site']\n",
    "        site_df=spacex_df.loc[spacex_df['Launch Site'] == entered_site]\n",
    "        fig = px.pie(site_df, names='class',title='Launch Success for Site',template='plotly_dark')\n",
    "        return fig\n",
    "\n",
    "# TASK 4:\n",
    "# Add a callback function for `site-dropdown` and `payload-slider` as inputs, `success-payload-scatter-chart` as output\n",
    "\n",
    "@app.callback(\n",
    "    Output(component_id='success-payload-scatter-chart', component_property='figure'),\n",
    "    [Input(component_id='site-dropdown', component_property='value'),\n",
    "    Input(component_id='payload-slider', component_property='value')])\n",
    "\n",
    "def get_scatter_plot(entered_site, payload_slider):\n",
    "    if entered_site == 'All Sites':\n",
    "        payload_df = spacex_df[(spacex_df['Payload Mass (kg)']>=payload_slider[0])\n",
    "                                 &(spacex_df['Payload Mass (kg)']<=payload_slider[1])]\n",
    "        \n",
    "        scatterfig = px.scatter(payload_df, x=\"Payload Mass (kg)\", y=\"class\",\n",
    "                                size = \"Payload Mass (kg)\",\n",
    "                                marginal_x=\"histogram\", marginal_y=\"rug\",\n",
    "                                color=\"Booster Version Category\",\n",
    "                                template='plotly_dark')\n",
    "        return scatterfig\n",
    "    else:\n",
    "        site_df=spacex_df.loc[spacex_df['Launch Site'] == entered_site]\n",
    "        payload_df = site_df[(site_df['Payload Mass (kg)']>=payload_slider[0]) #  (minimum payload) gets all payload data points greater than or equal to selected range\n",
    "                          &(spacex_df['Payload Mass (kg)']<=payload_slider[1])] # (maximum payload) less than or equal to\n",
    "            \n",
    "        scatterfig = px.scatter(payload_df, x=\"Payload Mass (kg)\", y=\"class\",\n",
    "                                size = \"Payload Mass (kg)\", \n",
    "                                marginal_x=\"histogram\", marginal_y=\"rug\",\n",
    "                                color=\"Booster Version Category\",\n",
    "                                template='plotly_dark')\n",
    "        return scatterfig\n",
    "# Run the app\n",
    "if __name__ == '__main__':\n",
    "    app.run_server()"
   ]
  },
  {
   "cell_type": "code",
   "execution_count": null,
   "id": "2ab6e33f-57d7-49bf-80dd-2b8b3687a0e0",
   "metadata": {},
   "outputs": [],
   "source": []
  }
 ],
 "metadata": {
  "kernelspec": {
   "display_name": "Python 3",
   "language": "python",
   "name": "python3"
  },
  "language_info": {
   "codemirror_mode": {
    "name": "ipython",
    "version": 3
   },
   "file_extension": ".py",
   "mimetype": "text/x-python",
   "name": "python",
   "nbconvert_exporter": "python",
   "pygments_lexer": "ipython3",
   "version": "3.8.8"
  }
 },
 "nbformat": 4,
 "nbformat_minor": 5
}
